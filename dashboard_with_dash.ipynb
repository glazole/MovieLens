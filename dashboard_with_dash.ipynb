{
 "cells": [
  {
   "cell_type": "code",
   "execution_count": 9,
   "metadata": {},
   "outputs": [
    {
     "data": {
      "text/html": [
       "\n",
       "        <iframe\n",
       "            width=\"100%\"\n",
       "            height=\"650\"\n",
       "            src=\"http://127.0.0.1:8050/\"\n",
       "            frameborder=\"0\"\n",
       "            allowfullscreen\n",
       "            \n",
       "        ></iframe>\n",
       "        "
      ],
      "text/plain": [
       "<IPython.lib.display.IFrame at 0x272a70098d0>"
      ]
     },
     "metadata": {},
     "output_type": "display_data"
    }
   ],
   "source": [
    "from dash import Dash, dash_table, dcc, callback, Output, Input\n",
    "import pandas as pd\n",
    "import plotly.express as px\n",
    "import dash_mantine_components as dmc\n",
    "\n",
    "df = pd.read_csv('https://raw.githubusercontent.com/plotly/datasets/master/gapminder2007.csv')\n",
    "\n",
    "app = Dash()\n",
    "\n",
    "app.layout = dmc.Container([\n",
    "    dmc.Title('My First App with Data, Graph, and Controls', color=\"blue\", size=\"h3\"),\n",
    "    dmc.RadioGroup(\n",
    "            [dmc.Radio(i, value=i) for i in  ['pop', 'lifeExp', 'gdpPercap']],\n",
    "            id='my-dmc-radio-item',\n",
    "            value='lifeExp',\n",
    "            size=\"sm\"\n",
    "        ),\n",
    "    dmc.Grid([\n",
    "        dmc.Col([\n",
    "            dash_table.DataTable(data=df.to_dict('records'), page_size=12, style_table={'overflowX': 'auto'})\n",
    "        ], span=6),\n",
    "        dmc.Col([\n",
    "            dcc.Graph(figure={}, id='graph-placeholder')\n",
    "        ], span=6),\n",
    "    ]),\n",
    "\n",
    "], fluid=True)\n",
    "\n",
    "@callback(\n",
    "    Output(component_id='graph-placeholder', component_property='figure'),\n",
    "    Input(component_id='my-dmc-radio-item', component_property='value')\n",
    ")\n",
    "def update_graph(col_chosen):\n",
    "    fig = px.histogram(df, x='continent', y=col_chosen, histfunc='avg')\n",
    "    return fig\n",
    "\n",
    "if __name__ == '__main__':\n",
    "    app.run(debug=True)"
   ]
  }
 ],
 "metadata": {
  "kernelspec": {
   "display_name": "Python 3",
   "language": "python",
   "name": "python3"
  },
  "language_info": {
   "codemirror_mode": {
    "name": "ipython",
    "version": 3
   },
   "file_extension": ".py",
   "mimetype": "text/x-python",
   "name": "python",
   "nbconvert_exporter": "python",
   "pygments_lexer": "ipython3",
   "version": "3.10.10"
  }
 },
 "nbformat": 4,
 "nbformat_minor": 2
}
